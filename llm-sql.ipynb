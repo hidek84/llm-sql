{
 "cells": [
  {
   "cell_type": "code",
   "execution_count": 1,
   "id": "9c534ad4-00f1-4a6b-8162-e08551d25e61",
   "metadata": {},
   "outputs": [],
   "source": [
    "# https://python.langchain.com/docs/use_cases/sql/agents"
   ]
  },
  {
   "cell_type": "markdown",
   "id": "6ea4a57a-97dc-431c-b89d-ef377a2bf2d3",
   "metadata": {},
   "source": [
    "# Prepare SQL"
   ]
  },
  {
   "cell_type": "code",
   "execution_count": 2,
   "id": "9a23d7ee-1185-4545-996e-664d28428417",
   "metadata": {},
   "outputs": [
    {
     "name": "stdout",
     "output_type": "stream",
     "text": [
      "Overwriting create_db.sql\n"
     ]
    }
   ],
   "source": [
    "%%writefile create_db.sql\n",
    "\n",
    "CREATE TABLE Orders (\n",
    "    Id INT,\n",
    "    ProductId INT NOT NULL,\n",
    "    CustomerId INT NOT NULL\n",
    ");\n",
    "\n",
    "CREATE TABLE Products (\n",
    "    Id INT,\n",
    "    Name CHAR(255)\n",
    ");\n",
    "\n",
    "CREATE TABLE Customers (\n",
    "    Id INT,\n",
    "    Name CHAR(255)\n",
    ");\n",
    "\n",
    "INSERT INTO Orders(Id, ProductId, CustomerId) VALUES(1, 1, 1);\n",
    "INSERT INTO Orders(Id, ProductId, CustomerId) VALUES(2, 1, 2);\n",
    "INSERT INTO Orders(Id, ProductId, CustomerId) VALUES(3, 1, 3);\n",
    "INSERT INTO Orders(Id, ProductId, CustomerId) VALUES(4, 2, 1);\n",
    "INSERT INTO Orders(Id, ProductId, CustomerId) VALUES(5, 2, 3);\n",
    "INSERT INTO Orders(Id, ProductId, CustomerId) VALUES(6, 2, 4);\n",
    "INSERT INTO Orders(Id, ProductId, CustomerId) VALUES(7, 3, 3);\n",
    "INSERT INTO Orders(Id, ProductId, CustomerId) VALUES(8, 3, 4);\n",
    "\n",
    "INSERT INTO Products(Id, Name) VALUES(1, 'pixel6a');\n",
    "INSERT INTO Products(Id, Name) VALUES(2, 'iphone16');\n",
    "INSERT INTO Products(Id, Name) VALUES(3, 'xperia1');\n",
    "\n",
    "INSERT INTO Customers(Id, Name) VALUES(1, 'John');\n",
    "INSERT INTO Customers(Id, Name) VALUES(2, 'Taro');\n",
    "INSERT INTO Customers(Id, Name) VALUES(3, 'Ben');\n",
    "INSERT INTO Customers(Id, Name) VALUES(4, 'Jing');"
   ]
  },
  {
   "cell_type": "code",
   "execution_count": 3,
   "id": "c3e9c445-9628-4f5c-bd4b-b51a212481b0",
   "metadata": {},
   "outputs": [],
   "source": [
    "# https://database.guide/2-sample-databases-sqlite/\n",
    "!rm orders.sqlite\n",
    "!sqlite3 orders.sqlite \".read create_db.sql\""
   ]
  },
  {
   "cell_type": "code",
   "execution_count": 4,
   "id": "db3fbffe-84fe-4d02-b96e-f7a1d50a532c",
   "metadata": {},
   "outputs": [
    {
     "data": {
      "text/plain": [
       "[(1, 'pixel6a', 'John'),\n",
       " (2, 'pixel6a', 'Taro'),\n",
       " (3, 'pixel6a', 'Ben'),\n",
       " (4, 'iphone16', 'John'),\n",
       " (5, 'iphone16', 'Ben'),\n",
       " (6, 'iphone16', 'Jing'),\n",
       " (7, 'xperia1', 'Ben'),\n",
       " (8, 'xperia1', 'Jing')]"
      ]
     },
     "execution_count": 4,
     "metadata": {},
     "output_type": "execute_result"
    }
   ],
   "source": [
    "import sqlite3\n",
    "\n",
    "with sqlite3.connect('orders.sqlite') as con:\n",
    "    response = con.execute(\"\"\"\n",
    "    SELECT o.Id, p.Name, c.Name from Orders as o\n",
    "    INNER JOIN Products as p ON o.ProductId == p.Id\n",
    "    INNER JOIN Customers as c ON o.CustomerId == c.Id\n",
    "    \"\"\")\n",
    "    results = response.fetchall()\n",
    "results"
   ]
  },
  {
   "cell_type": "markdown",
   "id": "75bfe1d4-35d8-42df-a5ae-85388b363a68",
   "metadata": {},
   "source": [
    "# Prepare LLM model"
   ]
  },
  {
   "cell_type": "code",
   "execution_count": 5,
   "id": "7d326dbc-6970-4148-ab14-03c21cae0acb",
   "metadata": {},
   "outputs": [
    {
     "name": "stderr",
     "output_type": "stream",
     "text": [
      "/Users/hide/_project_py312/llm-with-semantic-layer/.venv/lib/python3.12/site-packages/tqdm/auto.py:21: TqdmWarning: IProgress not found. Please update jupyter and ipywidgets. See https://ipywidgets.readthedocs.io/en/stable/user_install.html\n",
      "  from .autonotebook import tqdm as notebook_tqdm\n"
     ]
    },
    {
     "name": "stdout",
     "output_type": "stream",
     "text": [
      "🌍 To view the Phoenix app in your browser, visit http://localhost:6006/\n",
      "📺 To view the Phoenix app in a notebook, run `px.active_session().view()`\n",
      "📖 For more information on how to use Phoenix, check out https://docs.arize.com/phoenix\n"
     ]
    }
   ],
   "source": [
    "import phoenix as px\n",
    "\n",
    "session = px.launch_app()\n",
    "\n",
    "from phoenix.trace.langchain import LangChainInstrumentor\n",
    "LangChainInstrumentor().instrument()"
   ]
  },
  {
   "cell_type": "code",
   "execution_count": 6,
   "id": "3d3342dd-0965-41d1-8ad8-581a7c44d7c2",
   "metadata": {},
   "outputs": [],
   "source": [
    "from langchain_community.agent_toolkits import create_sql_agent\n",
    "from langchain_community.llms import Ollama\n",
    "\n",
    "from langchain.callbacks.manager import CallbackManager\n",
    "from langchain.callbacks.streaming_stdout import StreamingStdOutCallbackHandler\n",
    "\n",
    "callback_manager = CallbackManager([StreamingStdOutCallbackHandler()])\n",
    "\n",
    "llm = Ollama(\n",
    "    # model=\"llama2:13b-chat\",\n",
    "    model=\"codellama:7b\",\n",
    "    # callback_manager=callback_manager,\n",
    "    verbose=True,\n",
    ")"
   ]
  },
  {
   "cell_type": "markdown",
   "id": "6698f73b-94f3-4c45-b8f9-cfc3840ff2d4",
   "metadata": {},
   "source": [
    "# Construct agent tool"
   ]
  },
  {
   "cell_type": "code",
   "execution_count": 7,
   "id": "6f40b818-fd7d-4051-8e6e-fbf0eef646c5",
   "metadata": {
    "scrolled": true
   },
   "outputs": [
    {
     "name": "stdout",
     "output_type": "stream",
     "text": [
      "get_order_by_product_name\n",
      "get_order_by_product_name(product_name: str) -> str - This tool is to fetch the orders with customer name by product name\n",
      "{'product_name': {'title': 'Product Name', 'type': 'string'}}\n",
      "function called: [(1, 'pixel6a', 'John'), (2, 'pixel6a', 'Taro'), (3, 'pixel6a', 'Ben')]\n",
      "\n",
      "* OrderId: 1, ProductName: pixel6a, CustomerName: John\n",
      "* OrderId: 2, ProductName: pixel6a, CustomerName: Taro\n",
      "* OrderId: 3, ProductName: pixel6a, CustomerName: Ben\n",
      "\n"
     ]
    }
   ],
   "source": [
    "from langchain.tools import tool\n",
    "import json\n",
    "\n",
    "@tool\n",
    "def get_order_by_product_name(product_name: str) -> str:\n",
    "    \"\"\"\n",
    "    This tool is to fetch the orders with customer name by product name\n",
    "    \"\"\"\n",
    "    with sqlite3.connect('orders.sqlite') as con:\n",
    "        response = con.execute(f\"\"\"\n",
    "            SELECT o.Id, p.Name, c.Name from Orders as o\n",
    "            INNER JOIN Products as p ON o.ProductId == p.Id\n",
    "            INNER JOIN Customers as c ON o.CustomerId == c.Id\n",
    "            WHERE p.Name == '{product_name}'\n",
    "        \"\"\")\n",
    "        results = response.fetchall()\n",
    "        print(f'function called: {results}')\n",
    "        if results:\n",
    "            return f\"\"\"\n",
    "{'\\n'.join([f'* OrderId: {r[0]}, ProductName: {r[1]}, CustomerName: {r[2]}' for r in results])}\n",
    "\"\"\"\n",
    "        return \"no data\"\n",
    "\n",
    "for attr in ['name', 'description', 'args']:\n",
    "    print(getattr(get_order_by_product_name, attr))\n",
    "\n",
    "print(get_order_by_product_name.invoke('pixel6a'))"
   ]
  },
  {
   "cell_type": "markdown",
   "id": "4a06643f-6b2f-42c8-a040-5a9e1ab76369",
   "metadata": {},
   "source": [
    "# Construct agent"
   ]
  },
  {
   "cell_type": "code",
   "execution_count": 8,
   "id": "244d9668-0d35-488d-9aa2-01cb86048631",
   "metadata": {},
   "outputs": [
    {
     "name": "stderr",
     "output_type": "stream",
     "text": [
      "/Users/hide/_project_py312/llm-with-semantic-layer/.venv/lib/python3.12/site-packages/langchain_core/_api/deprecation.py:117: LangChainDeprecationWarning: The function `initialize_agent` was deprecated in LangChain 0.1.0 and will be removed in 0.2.0. Use Use new agent constructor methods like create_react_agent, create_json_agent, create_structured_chat_agent, etc. instead.\n",
      "  warn_deprecated(\n"
     ]
    }
   ],
   "source": [
    "from langchain.agents import initialize_agent, AgentType, structured_chat\n",
    "\n",
    "tools = [get_order_by_product_name]\n",
    "\n",
    "FORMAT_INSTRUCTIONS = structured_chat.prompt.FORMAT_INSTRUCTIONS + '''\n",
    "You can refer to the following example of the previous conversation with human.\n",
    "\n",
    "Example 1:\n",
    "Human: What is the square root of 4?\n",
    "Thought: I need to calculate the square root of 4\n",
    "Action:\n",
    "```\n",
    "{{{{\n",
    "    \"action\": \"calculate_square_root\",\n",
    "    \"action_input\": {{{{\"number\": 4}}}}\n",
    "    \n",
    "}}}}\n",
    "```\n",
    "Observation: {{{{\"answer\": 2}}}}\n",
    "Thought: I know what to respond\n",
    "Action:\n",
    "```\n",
    "{{{{\n",
    "  \"action\": \"Final Answer\",\n",
    "  \"action_input\": \"The square root of 4 is 2\"\n",
    "}}}}\n",
    "```\n",
    "<</SYS>>\n",
    "'''\n",
    "\n",
    "# from langchain.memory import ConversationBufferWindowMemory\n",
    "# memory = ConversationBufferWindowMemory(\n",
    "#     memory_key=\"chat_history\", k=5, return_messages=True, output_key=\"output\"\n",
    "# )\n",
    "\n",
    "PREFIX = \"[INST]<<SYS>> You are smart that selects a function from list of functions based on user queries.\\\n",
    "Run only one function tool at a time or in one query.<</SYS>>\\n\"\n",
    "\n",
    "agent_executor = initialize_agent(\n",
    "    tools=tools,\n",
    "    llm=llm,\n",
    "    agent=AgentType.STRUCTURED_CHAT_ZERO_SHOT_REACT_DESCRIPTION,\n",
    "    verbose=True,\n",
    "    # handle_parsing_errors=True,\n",
    "    # memory=memory,\n",
    "    agent_kwargs={\n",
    "        'prefix': PREFIX, \n",
    "    #     'prefix': '[INST]<<SYS>>' + structured_chat.prompt.PREFIX, # + ' DO NOT modify a quoted text in a question.',\n",
    "        'suffix': structured_chat.prompt.SUFFIX + '\\n\\n[/INST]',\n",
    "        'human_message_template': '{input}\\n\\n{agent_scratchpad}',\n",
    "        'format_instructions': FORMAT_INSTRUCTIONS\n",
    "    }\n",
    ")"
   ]
  },
  {
   "cell_type": "markdown",
   "id": "f1fd8558-2e7f-4f47-92c1-3eb0655ee866",
   "metadata": {},
   "source": [
    "- https://medium.com/@sandyshah1990/langchain-agents-and-function-calling-using-llama-2-locally-29ce057e4789\n",
    "- https://github.com/pinecone-io/examples/blob/master/learn/generation/llm-field-guide/llama-2/llama-2-70b-chat-agent.ipynb"
   ]
  },
  {
   "cell_type": "code",
   "execution_count": 9,
   "id": "35632194-5295-420d-b7a4-401448db71a2",
   "metadata": {},
   "outputs": [
    {
     "name": "stdout",
     "output_type": "stream",
     "text": [
      "\n",
      "\n",
      "\u001b[1m> Entering new AgentExecutor chain...\u001b[0m\n",
      "\u001b[32;1m\u001b[1;3mAction:\n",
      "```\n",
      "{\n",
      "    \"action\": \"get_order_by_product_name\",\n",
      "    \"action_input\": {\"product_name\": \"pixel6a\"}\n",
      "}\n",
      "```\n",
      "\u001b[0mfunction called: [(1, 'pixel6a', 'John'), (2, 'pixel6a', 'Taro'), (3, 'pixel6a', 'Ben')]\n",
      "\n",
      "Observation: \u001b[36;1m\u001b[1;3m\n",
      "* OrderId: 1, ProductName: pixel6a, CustomerName: John\n",
      "* OrderId: 2, ProductName: pixel6a, CustomerName: Taro\n",
      "* OrderId: 3, ProductName: pixel6a, CustomerName: Ben\n",
      "\u001b[0m\n",
      "Thought:\u001b[32;1m\u001b[1;3mI know what to respond. Here's my final answer:\n",
      "```\n",
      "{\n",
      "    \"action\": \"Final Answer\",\n",
      "    \"action_input\": {\n",
      "        \"customer_names\": [\"John\", \"Taro\", \"Ben\"]\n",
      "    }\n",
      "}\n",
      "```\u001b[0m\n",
      "\n",
      "\u001b[1m> Finished chain.\u001b[0m\n"
     ]
    },
    {
     "data": {
      "text/plain": [
       "{'input': \"Which customers ordered the product 'pixel6a'?\",\n",
       " 'output': {'customer_names': ['John', 'Taro', 'Ben']}}"
      ]
     },
     "execution_count": 9,
     "metadata": {},
     "output_type": "execute_result"
    }
   ],
   "source": [
    "agent_response = agent_executor.invoke(\"Which customers ordered the product 'pixel6a'?\")\n",
    "agent_response"
   ]
  },
  {
   "cell_type": "markdown",
   "id": "556de7ce-8742-404d-9cc9-d1472a0bb0cf",
   "metadata": {},
   "source": [
    "# SQL Chain\n",
    "https://github.com/langchain-ai/langchain/blob/master/cookbook/LLaMA2_sql_chat.ipynb"
   ]
  },
  {
   "cell_type": "code",
   "execution_count": 14,
   "id": "0cd92370-b447-4008-bfe2-f18749766eeb",
   "metadata": {},
   "outputs": [
    {
     "name": "stdout",
     "output_type": "stream",
     "text": [
      "sqlite\n",
      "['Customers', 'Orders', 'Products']\n"
     ]
    },
    {
     "data": {
      "text/plain": [
       "\"[('John',), ('Taro',), ('Ben',)]\""
      ]
     },
     "execution_count": 14,
     "metadata": {},
     "output_type": "execute_result"
    }
   ],
   "source": [
    "from langchain_community.utilities import SQLDatabase\n",
    "\n",
    "db = SQLDatabase.from_uri(\"sqlite:///orders.sqlite\")\n",
    "\n",
    "def get_schema(_):\n",
    "    return db.get_table_info()\n",
    "\n",
    "\n",
    "def run_query(query):\n",
    "    return db.run(query)\n",
    "\n",
    "print(db.dialect)\n",
    "print(db.get_usable_table_names())\n",
    "db.run(\"SELECT * FROM Products LIMIT 10;\")\n",
    "\n",
    "db.run(\"\"\"SELECT c.Name \n",
    "FROM Customers AS c \n",
    "INNER JOIN Orders AS o ON c.Id = o.CustomerId \n",
    "INNER JOIN Products AS p ON p.Id = o.ProductId \n",
    "WHERE p.Name = 'pixel6a';\n",
    "\"\"\")"
   ]
  },
  {
   "cell_type": "code",
   "execution_count": 32,
   "id": "7efbc1ed-c610-4411-9aad-e795fafb38c7",
   "metadata": {},
   "outputs": [
    {
     "data": {
      "text/plain": [
       "'```\\nSELECT c.Name AS \"Customer Name\" \\nFROM Customers c, Orders o, Products p \\nWHERE c.Id = o.CustomerId AND o.ProductId = p.Id AND p.Name LIKE \\'%pixel6a%\\';\\n```'"
      ]
     },
     "execution_count": 32,
     "metadata": {},
     "output_type": "execute_result"
    }
   ],
   "source": [
    "# Prompt\n",
    "from langchain_core.prompts import ChatPromptTemplate\n",
    "\n",
    "# Update the template based on the type of SQL Database like MySQL, Microsoft SQL Server and so on\n",
    "template = \"\"\"Based on the table schema below, write a SQL query that would answer the user's question:\n",
    "{schema}\n",
    "\n",
    "Question: {question}\n",
    "SQL Query:\"\"\"\n",
    "prompt = ChatPromptTemplate.from_messages(\n",
    "    [\n",
    "        (\n",
    "            \"system\",\n",
    "            \"Given an input question, convert it to a SQL query without triple backticks. No pre-amble. Do not be ambiguous column name. Preserve table and column names.\"\n",
    "        ),\n",
    "        (\"human\", template),\n",
    "    ]\n",
    ")\n",
    "\n",
    "# Chain to query\n",
    "from langchain_core.output_parsers import StrOutputParser\n",
    "from langchain_core.runnables import RunnablePassthrough\n",
    "\n",
    "sql_response = (\n",
    "    RunnablePassthrough.assign(schema=get_schema)\n",
    "    | prompt\n",
    "    | llm.bind(stop=[\"\\nSQLResult:\"])\n",
    "    | StrOutputParser()\n",
    ")\n",
    "\n",
    "sql_response.invoke({\"question\": \"Which customers ordered the product name 'pixel6a'?\"})"
   ]
  },
  {
   "cell_type": "code",
   "execution_count": 44,
   "id": "6aa9baed-0398-4b63-aff9-f101bcb8a551",
   "metadata": {
    "scrolled": true
   },
   "outputs": [
    {
     "name": "stdout",
     "output_type": "stream",
     "text": [
      "\n",
      "SELECT p.Name\n",
      "FROM Customers c\n",
      "INNER JOIN Orders o ON c.Id = o.CustomerId\n",
      "INNER JOIN Products p ON p.Id = o.ProductId\n",
      "WHERE c.Name = 'John';\n",
      "[('pixel6a',), ('iphone16',)]\n",
      "\n",
      "\n",
      "Based on the provided table schema and SQL query, it appears that a customer with the name \"John\" has purchased two different products from the Orders table. The SQL response is a list of tuples containing the names of the products that John bought, which are 'pixel6a' and 'iphone16'.\n"
     ]
    }
   ],
   "source": [
    "# Chain to answer\n",
    "template = \"\"\"Based on the table schema below, question, sql query, and sql response, write a natural language response:\n",
    "{schema}\n",
    "\n",
    "Question: {question}\n",
    "SQL Query: {query}\n",
    "SQL Response: {response}\"\"\"\n",
    "prompt_response = ChatPromptTemplate.from_messages(\n",
    "    [\n",
    "        (\n",
    "            \"system\",\n",
    "            \"Given an input question, convert it to a SQL query without triple backticks. No pre-amble. Do not be ambiguous column name. Preserve table and column names.\"\n",
    "        ),\n",
    "        (\"human\", template),\n",
    "    ]\n",
    ")\n",
    "\n",
    "def execute_query(query):\n",
    "    result = db.run(query[\"query\"].replace(\"```\", \"\"))\n",
    "    print(f\"\"\"\n",
    "{query['query']}\n",
    "{result}\n",
    "\"\"\")\n",
    "    return result\n",
    "\n",
    "full_chain = (\n",
    "    RunnablePassthrough.assign(query=sql_response)\n",
    "    | RunnablePassthrough.assign(\n",
    "        schema=get_schema,\n",
    "        response=execute_query,  #lambda x: db.run(x[\"query\"].replace(\"```\", \"\")),\n",
    "    )\n",
    "    | prompt_response\n",
    "    | llm\n",
    ")\n",
    "\n",
    "# res = full_chain.invoke({\"question\": \"who (customer names) ordered the product 'pixel6a'?\"})\n",
    "res = full_chain.invoke({\"question\": \"what product did John buy?\"})\n",
    "print(res)"
   ]
  },
  {
   "cell_type": "markdown",
   "id": "7784d141-d7e4-40a7-90a0-8ab5fd29817a",
   "metadata": {},
   "source": [
    "Use pre-defined func"
   ]
  },
  {
   "cell_type": "code",
   "execution_count": 46,
   "id": "ce53f162-4832-4f86-81a1-6c8b14b16dab",
   "metadata": {},
   "outputs": [
    {
     "data": {
      "text/plain": [
       "'What product did John buy?\\n\\nSQLQuery:\\nSELECT Products.Name\\nFROM Customers, Orders, Products\\nWHERE Customers.Id = Orders.CustomerId AND Orders.ProductId = Products.Id AND Customers.Name = \"John\";'"
      ]
     },
     "execution_count": 46,
     "metadata": {},
     "output_type": "execute_result"
    }
   ],
   "source": [
    "from langchain.chains.sql_database.query import create_sql_query_chain\n",
    "\n",
    "chain = create_sql_query_chain(llm, db)\n",
    "response = chain.invoke({\"question\": \"what product did John buy?\"})\n",
    "response"
   ]
  }
 ],
 "metadata": {
  "kernelspec": {
   "display_name": "Python 3 (ipykernel)",
   "language": "python",
   "name": "python3"
  },
  "language_info": {
   "codemirror_mode": {
    "name": "ipython",
    "version": 3
   },
   "file_extension": ".py",
   "mimetype": "text/x-python",
   "name": "python",
   "nbconvert_exporter": "python",
   "pygments_lexer": "ipython3",
   "version": "3.12.1"
  }
 },
 "nbformat": 4,
 "nbformat_minor": 5
}
